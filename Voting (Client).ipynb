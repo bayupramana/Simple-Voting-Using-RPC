{
 "cells": [
  {
   "cell_type": "code",
   "execution_count": 1,
   "metadata": {},
   "outputs": [],
   "source": [
    "# import xmlrpc bagian client saja\n",
    "import xmlrpc.client"
   ]
  },
  {
   "cell_type": "code",
   "execution_count": 2,
   "metadata": {},
   "outputs": [],
   "source": [
    "# buat stub (proxy) untuk client\n",
    "server = xmlrpc.client.ServerProxy('http://192.168.100.17:8008')"
   ]
  },
  {
   "cell_type": "code",
   "execution_count": 3,
   "metadata": {},
   "outputs": [
    {
     "data": {
      "text/plain": [
       "True"
      ]
     },
     "execution_count": 3,
     "metadata": {},
     "output_type": "execute_result"
    }
   ],
   "source": [
    "# lakukan pemanggilan fungsi vote(\"nama_kandidat\") yang ada di server\n",
    "server.vote('Bayu P')\n",
    "server.vote('Bayu F')\n",
    "server.vote('Danny') \n",
    "server.vote('Iklil') "
   ]
  },
  {
   "cell_type": "code",
   "execution_count": 4,
   "metadata": {},
   "outputs": [],
   "source": [
    "# lakukan pemanggilan fungsi querry() untuk mengetahui hasil persentase dari masing-masing kandidat\n",
    "hasil = server.querry()"
   ]
  },
  {
   "cell_type": "code",
   "execution_count": 5,
   "metadata": {},
   "outputs": [
    {
     "name": "stdout",
     "output_type": "stream",
     "text": [
      "Bayu P : 1 ,  25.0 %\n",
      "Bayu F : 1 ,  25.0 %\n",
      "Danny : 1 ,  25.0 %\n",
      "Iklil : 1 ,  25.0 %\n"
     ]
    }
   ],
   "source": [
    "# lakukan pemanggilan fungsi lain terserah Anda\n",
    "for i in range(0, len(hasil[0])):\n",
    "    print(hasil[0][i], ':', hasil[1][i], ', ', hasil[2][i], '%');"
   ]
  },
  {
   "cell_type": "code",
   "execution_count": null,
   "metadata": {},
   "outputs": [],
   "source": []
  },
  {
   "cell_type": "code",
   "execution_count": null,
   "metadata": {},
   "outputs": [],
   "source": []
  },
  {
   "cell_type": "code",
   "execution_count": null,
   "metadata": {},
   "outputs": [],
   "source": []
  }
 ],
 "metadata": {
  "kernelspec": {
   "display_name": "Python 3",
   "language": "python",
   "name": "python3"
  },
  "language_info": {
   "codemirror_mode": {
    "name": "ipython",
    "version": 3
   },
   "file_extension": ".py",
   "mimetype": "text/x-python",
   "name": "python",
   "nbconvert_exporter": "python",
   "pygments_lexer": "ipython3",
   "version": "3.7.4"
  }
 },
 "nbformat": 4,
 "nbformat_minor": 2
}
