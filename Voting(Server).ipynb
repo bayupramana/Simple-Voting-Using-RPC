{
 "cells": [
  {
   "cell_type": "code",
   "execution_count": 1,
   "metadata": {},
   "outputs": [],
   "source": [
    "# import SimpleXMLRPCServer\n",
    "from xmlrpc.server import SimpleXMLRPCServer"
   ]
  },
  {
   "cell_type": "code",
   "execution_count": 2,
   "metadata": {},
   "outputs": [],
   "source": [
    "# import SimpleXMLRPCRequestHandler\n",
    "from xmlrpc.server import SimpleXMLRPCRequestHandler\n",
    "import threading"
   ]
  },
  {
   "cell_type": "code",
   "execution_count": 3,
   "metadata": {},
   "outputs": [],
   "source": [
    "# Batasi hanya pada path /RPC2 saja supaya tidak bisa mengakses path lainnya\n",
    "class RequestHandler(SimpleXMLRPCRequestHandler):\n",
    "    rpc_paths = ('/RPC2',)"
   ]
  },
  {
   "cell_type": "code",
   "execution_count": 4,
   "metadata": {},
   "outputs": [],
   "source": [
    "# Buat server\n",
    "server = SimpleXMLRPCServer(('192.168.100.17',8008), requestHandler=RequestHandler) \n",
    "\n",
    "server.register_introspection_functions()\n",
    "\n",
    "# buat data struktur dictionary untuk menampung nama_kandidat dan hasil voting\n",
    "voting = {\n",
    "    \"namaKandidat\" : [],\n",
    "    \"hasilVote\" : []\n",
    "}\n",
    "# kode setelah ini adalah critical section, menambahkan vote tidak boeh terjadi race condition\n",
    "# siapkan lock\n",
    "lock = threading.Lock()"
   ]
  },
  {
   "cell_type": "code",
   "execution_count": 5,
   "metadata": {},
   "outputs": [],
   "source": [
    "#  buat fungsi bernama vote_candidate()\n",
    "def vote_candidate(x):\n",
    "    # critical section dimulai harus dilock\n",
    "    lock.acquire()\n",
    "    # jika kandidat ada dalam dictionary maka tambahkan  nilai votenya\n",
    "    if len(voting['namaKandidat']) is 0:\n",
    "        voting['namaKandidat'].append(x)\n",
    "        voting['hasilVote'].append(1)\n",
    "    else:\n",
    "        for i in range(0, len(voting['namaKandidat'])):\n",
    "            if voting['namaKandidat'][i] == x:\n",
    "                voting['hasilVote'][i] += 1\n",
    "                break\n",
    "            if (i == len(voting['namaKandidat'])-1):\n",
    "                voting['namaKandidat'].append(x)\n",
    "                voting['hasilVote'].append(1)\n",
    "\n",
    "    # critical section berakhir, harus diunlock\n",
    "    lock.release()\n",
    "    return True"
   ]
  },
  {
   "cell_type": "code",
   "execution_count": 6,
   "metadata": {},
   "outputs": [
    {
     "data": {
      "text/plain": [
       "<function __main__.vote_candidate(x)>"
      ]
     },
     "execution_count": 6,
     "metadata": {},
     "output_type": "execute_result"
    }
   ],
   "source": [
    " # register fungsi vote_candidate() sebagai vote\n",
    "server.register_function(vote_candidate, 'vote')"
   ]
  },
  {
   "cell_type": "code",
   "execution_count": 7,
   "metadata": {},
   "outputs": [],
   "source": [
    "# buat fungsi bernama querry_result\n",
    "def querry_result():\n",
    "    # critical section dimulai\n",
    "    lock.acquire()\n",
    "\n",
    "    # hitung total vote yang ada\n",
    "    totalVote = sum(voting['hasilVote'])\n",
    "\n",
    "    # hitung hasil persentase masing-masing kandidat\n",
    "    persen = []\n",
    "    for i in range(0, len(voting['namaKandidat'])):\n",
    "        hasil = voting['hasilVote'][i]\n",
    "        persen.append((hasil/totalVote) * 100)\n",
    "\n",
    "    # critical section berakhir\n",
    "    lock.release()\n",
    "    return [\n",
    "        voting['namaKandidat'],\n",
    "        voting['hasilVote'],\n",
    "        persen\n",
    "    ]"
   ]
  },
  {
   "cell_type": "code",
   "execution_count": 8,
   "metadata": {},
   "outputs": [
    {
     "name": "stdout",
     "output_type": "stream",
     "text": [
      "Server voting berjalan...\n"
     ]
    }
   ],
   "source": [
    " # register querry_result sebagai querry\n",
    "server.register_function(querry_result, 'querry')\n",
    "\n",
    "print (\"Server voting berjalan...\")"
   ]
  },
  {
   "cell_type": "code",
   "execution_count": null,
   "metadata": {
    "scrolled": true
   },
   "outputs": [
    {
     "name": "stderr",
     "output_type": "stream",
     "text": [
      "192.168.100.6 - - [13/Feb/2020 13:12:08] \"POST /RPC2 HTTP/1.1\" 200 -\n",
      "192.168.100.6 - - [13/Feb/2020 13:12:08] \"POST /RPC2 HTTP/1.1\" 200 -\n",
      "192.168.100.6 - - [13/Feb/2020 13:12:08] \"POST /RPC2 HTTP/1.1\" 200 -\n",
      "192.168.100.6 - - [13/Feb/2020 13:12:08] \"POST /RPC2 HTTP/1.1\" 200 -\n",
      "192.168.100.6 - - [13/Feb/2020 13:12:08] \"POST /RPC2 HTTP/1.1\" 200 -\n"
     ]
    }
   ],
   "source": [
    "# Jalankan server\n",
    "server.serve_forever()"
   ]
  },
  {
   "cell_type": "code",
   "execution_count": null,
   "metadata": {},
   "outputs": [],
   "source": []
  }
 ],
 "metadata": {
  "kernelspec": {
   "display_name": "Python 3",
   "language": "python",
   "name": "python3"
  },
  "language_info": {
   "codemirror_mode": {
    "name": "ipython",
    "version": 3
   },
   "file_extension": ".py",
   "mimetype": "text/x-python",
   "name": "python",
   "nbconvert_exporter": "python",
   "pygments_lexer": "ipython3",
   "version": "3.7.3"
  }
 },
 "nbformat": 4,
 "nbformat_minor": 2
}
